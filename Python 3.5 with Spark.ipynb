{
    "nbformat_minor": 1, 
    "cells": [
        {
            "source": "# My Jupyter Notebook on IBM Data Science Experience", 
            "cell_type": "markdown", 
            "metadata": {}
        }, 
        {
            "source": "**Ruslan Magana Vsevolodovna**\n\nScientist\n\n\n", 
            "cell_type": "markdown", 
            "metadata": {}
        }, 
        {
            "source": "*I am interested in data science because provides a perfect match to connect maths, information systems, business together. Which makes an interesting starting point to develop and improve the science*\n", 
            "cell_type": "markdown", 
            "metadata": {}
        }, 
        {
            "source": "#### Program to check if   given number is prime or not . For a  given number num (for this example n=7) is greater than 1 will  Iterate from 2 to n/2 and if num is divisible by any number between  2 and n/2, it is not prime otherwise it is prime. ", 
            "cell_type": "markdown", 
            "metadata": {}
        }, 
        {
            "execution_count": 11, 
            "cell_type": "code", 
            "metadata": {}, 
            "outputs": [
                {
                    "output_type": "stream", 
                    "name": "stdout", 
                    "text": "7 is a prime number\n"
                }
            ], 
            "source": "num = 7  \nif num > 1:     \n   for i in range(2, num//2):       \n       if (num % i) == 0: \n           print(num, \"is not a prime number\") \n           break\n   else: \n       print(num, \"is a prime number\") \n  \nelse: \n   print(num, \"is not a prime number\") "
        }, 
        {
            "source": "***\nIBM Watson Studio is a great because:\n1. Watson is the open\n2. Multicloud platform that lets you automate the AI lifecycle\n3. Build powerful models from scratch\n\n[See more](https://www.ibm.com/it-it/marketplace/watson-studio)\n\n![](https://1.dam.s81c.com/m/14be66d05133c74e/original/ibm-studios-all-444x320.jpg)\n***\n\n> IBM Cloud Pak for Data] is really important because it helps to do a couple of things that are mind blowing for data scientists \u2014 auto discovery of data and rapid integration of hyper relevant data\n", 
            "cell_type": "markdown", 
            "metadata": {}
        }
    ], 
    "metadata": {
        "kernelspec": {
            "display_name": "Python 3.5 with Spark", 
            "name": "python3", 
            "language": "python3"
        }, 
        "language_info": {
            "mimetype": "text/x-python", 
            "nbconvert_exporter": "python", 
            "version": "3.5.4", 
            "name": "python", 
            "file_extension": ".py", 
            "pygments_lexer": "ipython3", 
            "codemirror_mode": {
                "version": 3, 
                "name": "ipython"
            }
        }
    }, 
    "nbformat": 4
}